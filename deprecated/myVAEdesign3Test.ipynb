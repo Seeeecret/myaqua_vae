{
 "cells": [
  {
   "cell_type": "code",
   "id": "initial_id",
   "metadata": {
    "collapsed": true,
    "jupyter": {
     "is_executing": true
    }
   },
   "source": [
    "import glob\n",
    "import os\n",
    "import scripts\n",
    "import torch\n",
    "from torch.utils.tensorboard import SummaryWriter\n",
    "from diffusers import StableDiffusionPipeline, AutoencoderKL\n",
    "from diffusers import UNet2DConditionModel\n",
    "from safetensors.torch import load_file\n"
   ],
   "execution_count": null,
   "outputs": []
  },
  {
   "metadata": {},
   "cell_type": "code",
   "execution_count": null,
   "source": [
    "original_lora_param_info = {}\n",
    "safetensors_data_path = \"/mnt/share_disk/dorin/AquaLoRA/train/output_from_beginning/pytorch_lora_weights.safetensors\" \n",
    "# original_lora_data_lengths = []\n",
    "model = load_file(safetensors_data_path)\n",
    "for key, value in model.items():\n",
    "    param_info = {\n",
    "        'shape': value.shape,\n",
    "        'length': value.numel()\n",
    "    }\n",
    "    original_lora_param_info[key] = param_info"
   ],
   "id": "8accf66948c07f66",
   "outputs": []
  },
  {
   "metadata": {},
   "cell_type": "code",
   "execution_count": null,
   "source": [
    "# 打印原始模型参数信息\n",
    "for key, value in original_lora_param_info.items():\n",
    "    print(key, value['shape'])\n"
   ],
   "id": "f1fe02b0ce5ac901",
   "outputs": []
  },
  {
   "metadata": {},
   "cell_type": "code",
   "execution_count": null,
   "source": [
    "reconstructed_lora_vector = torch.load('/mnt/share_disk/dorin/AquaLoRA/generated_samples/sample_1.pth')\n",
    "# 打印重建模型参数信息\n",
    "reconstructed_lora_param_info = {}\n",
    "if isinstance(reconstructed_lora_vector, dict):\n",
    "    for key, value in reconstructed_lora_vector.items():\n",
    "        print(key, value.shape)\n",
    "        reconstructed_lora_param_info[key] = {'shape': value.shape, 'length': value.numel()}\n",
    "else:\n",
    "    print(reconstructed_lora_vector)\n",
    "    print(\"Loaded data is not a dictionary. It might be a single Tensor.\")"
   ],
   "id": "b3d33081f485f207",
   "outputs": []
  }
 ],
 "metadata": {
  "kernelspec": {
   "display_name": "Python 3",
   "language": "python",
   "name": "python3"
  },
  "language_info": {
   "codemirror_mode": {
    "name": "ipython",
    "version": 2
   },
   "file_extension": ".py",
   "mimetype": "text/x-python",
   "name": "python",
   "nbconvert_exporter": "python",
   "pygments_lexer": "ipython2",
   "version": "2.7.6"
  }
 },
 "nbformat": 4,
 "nbformat_minor": 5
}
